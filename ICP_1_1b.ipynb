{
  "nbformat": 4,
  "nbformat_minor": 0,
  "metadata": {
    "colab": {
      "provenance": []
    },
    "kernelspec": {
      "name": "python3",
      "display_name": "Python 3"
    },
    "language_info": {
      "name": "python"
    }
  },
  "cells": [
    {
      "cell_type": "code",
      "execution_count": 1,
      "metadata": {
        "colab": {
          "base_uri": "https://localhost:8080/"
        },
        "id": "jBkWXuaEMSoo",
        "outputId": "5f14b724-c29b-439f-ba18-8414292e44e5"
      },
      "outputs": [
        {
          "output_type": "stream",
          "name": "stdout",
          "text": [
            "1st Number2\n",
            "2nd Number4\n",
            "Arithmetic Operations:\n",
            "Addition: 6.0\n",
            "Subtraction: -2.0\n",
            "Multiplication: 8.0\n",
            "Division: 0.5\n"
          ]
        }
      ],
      "source": [
        "a=float(input(\"1st Number\"))\n",
        "b=float(input(\"2nd Number\"))\n",
        "print(\"Arithmetic Operations:\")\n",
        "print(\"Addition:\", a+b)\n",
        "print(\"Subtraction:\", a-b)\n",
        "print(\"Multiplication:\",a*b)\n",
        "print(\"Division:\", a/b)"
      ]
    }
  ]
}
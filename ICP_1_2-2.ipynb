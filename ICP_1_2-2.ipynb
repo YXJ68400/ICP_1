{
  "nbformat": 4,
  "nbformat_minor": 0,
  "metadata": {
    "colab": {
      "provenance": []
    },
    "kernelspec": {
      "name": "python3",
      "display_name": "Python 3"
    },
    "language_info": {
      "name": "python"
    }
  },
  "cells": [
    {
      "cell_type": "code",
      "execution_count": 14,
      "metadata": {
        "colab": {
          "base_uri": "https://localhost:8080/"
        },
        "id": "LAJin15XNc1Y",
        "outputId": "dc202fc3-1de8-4685-d35a-94cfa6055703"
      },
      "outputs": [
        {
          "output_type": "stream",
          "name": "stdout",
          "text": [
            "Enter a sentence:I love playing with Python\n",
            "Modified sentence: i love playing with pythons\n"
          ]
        }
      ],
      "source": [
        "input_str = input(\"Enter a sentence:\")\n",
        "parts = input_str.lower()\n",
        "modified_str = parts.replace('python', 'pythons' )\n",
        "print(\"Modified sentence:\", modified_str)"
      ]
    }
  ]
}
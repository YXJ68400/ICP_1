{
  "nbformat": 4,
  "nbformat_minor": 0,
  "metadata": {
    "colab": {
      "provenance": []
    },
    "kernelspec": {
      "name": "python3",
      "display_name": "Python 3"
    },
    "language_info": {
      "name": "python"
    }
  },
  "cells": [
    {
      "cell_type": "code",
      "execution_count": 1,
      "metadata": {
        "colab": {
          "base_uri": "https://localhost:8080/"
        },
        "id": "cufQuB_diCRX",
        "outputId": "c60c1fb9-6741-4e83-e663-8427776b6dc0"
      },
      "outputs": [
        {
          "output_type": "stream",
          "name": "stdout",
          "text": [
            "Enter a String: Python\n",
            "Enter characters to remove: ho\n",
            "Result Str: ntyP\n"
          ]
        }
      ],
      "source": [
        "input_str = input(\"Enter a String: \")\n",
        "remove_char= input(\"Enter characters to remove: \")\n",
        "new_str = ''.join(char for char in input_str if char not in remove_char)\n",
        "#new_str = input_str[:-2]\n",
        "print(\"Result Str:\", new_str[::-1])"
      ]
    },
    {
      "cell_type": "code",
      "source": [
        "a=float(input(\"1st Number\"))\n",
        "b=float(input(\"2nd Number\"))\n",
        "print(\"Arithmetic Operations:\")\n",
        "print(\"Addition:\", a+b)\n",
        "print(\"Subtraction:\", a-b)\n",
        "print(\"Multiplication:\",a*b)\n",
        "print(\"Division:\", a/b)"
      ],
      "metadata": {
        "colab": {
          "base_uri": "https://localhost:8080/"
        },
        "id": "XmThSc5QiYc8",
        "outputId": "e747d260-f308-4045-d690-6a2e03633229"
      },
      "execution_count": 2,
      "outputs": [
        {
          "output_type": "stream",
          "name": "stdout",
          "text": [
            "1st Number2\n",
            "2nd Number4\n",
            "Arithmetic Operations:\n",
            "Addition: 6.0\n",
            "Subtraction: -2.0\n",
            "Multiplication: 8.0\n",
            "Division: 0.5\n"
          ]
        }
      ]
    },
    {
      "cell_type": "code",
      "source": [
        "input_str = input(\"Enter a sentence:\")\n",
        "parts = input_str.lower()\n",
        "modified_str = parts.replace('python', 'pythons' )\n",
        "print(\"Modified sentence:\", modified_str)"
      ],
      "metadata": {
        "colab": {
          "base_uri": "https://localhost:8080/"
        },
        "id": "DESGdrJ6ihcw",
        "outputId": "a7d73073-cd33-4331-b75a-e082df336bad"
      },
      "execution_count": 3,
      "outputs": [
        {
          "output_type": "stream",
          "name": "stdout",
          "text": [
            "Enter a sentence:I love playing with Python\n",
            "Modified sentence: i love playing with pythons\n"
          ]
        }
      ]
    },
    {
      "cell_type": "code",
      "source": [
        "score = float(input(\"Enter the marks: \"))\n",
        "if 90 <= score <= 100:\n",
        "    grade = 'A'\n",
        "elif 80 <= score < 90:\n",
        "    grade = 'B'\n",
        "elif 70 <= score < 80:\n",
        "    grade = 'C'\n",
        "elif 60 <= score < 70:\n",
        "    grade = 'D'\n",
        "elif 0 <= score < 60:\n",
        "    grade = 'F'\n",
        "else:\n",
        "    grade = 'Invalid score'\n",
        "\n",
        "print(\"Your grade is:\", grade)"
      ],
      "metadata": {
        "colab": {
          "base_uri": "https://localhost:8080/"
        },
        "id": "pIyYwip6isua",
        "outputId": "0f171921-0166-4e19-ba41-cd07d6123be2"
      },
      "execution_count": 4,
      "outputs": [
        {
          "output_type": "stream",
          "name": "stdout",
          "text": [
            "Enter the marks: 76\n",
            "Your grade is: C\n"
          ]
        }
      ]
    }
  ]
}
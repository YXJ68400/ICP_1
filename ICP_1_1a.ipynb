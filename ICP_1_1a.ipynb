{
  "nbformat": 4,
  "nbformat_minor": 0,
  "metadata": {
    "colab": {
      "provenance": []
    },
    "kernelspec": {
      "name": "python3",
      "display_name": "Python 3"
    },
    "language_info": {
      "name": "python"
    }
  },
  "cells": [
    {
      "cell_type": "code",
      "source": [
        "input_str = input(\"Enter a String: \")\n",
        "remove_char= input(\"Enter characters to remove: \")\n",
        "new_str = ''.join(char for char in input_str if char not in remove_char)\n",
        "#new_str = input_str[:-2]\n",
        "print(\"Result Str:\", new_str[::-1])"
      ],
      "metadata": {
        "colab": {
          "base_uri": "https://localhost:8080/"
        },
        "id": "xmzBEf0OxLxx",
        "outputId": "d8d35d8c-1c70-411b-c95f-097d04c41027"
      },
      "execution_count": null,
      "outputs": [
        {
          "output_type": "stream",
          "name": "stdout",
          "text": [
            "Enter a String: Python\n",
            "Enter characters to remove: ho\n",
            "Result Str: ntyP\n"
          ]
        }
      ]
    }
  ]
}